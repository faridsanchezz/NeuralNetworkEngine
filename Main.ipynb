{
 "cells": [
  {
   "cell_type": "code",
   "execution_count": null,
   "metadata": {},
   "outputs": [],
   "source": [
    "import numpy as np"
   ]
  },
  {
   "cell_type": "code",
   "execution_count": null,
   "metadata": {},
   "outputs": [],
   "source": [
    "from NeuronalNetwork import NeuralLayer, NeuralNetwork\n",
    "from LossFunc import binary_crossentropy_derivative, binary_crossentropy\n",
    "from ActivFunc import relu, relu_derivative, softmax, softmax_derivative\n",
    "from Optimizer import SGD\n",
    "import Datasets\n",
    "from MetricUtils import display_loss_per_epoch, accuracy, confusionMatrix"
   ]
  },
  {
   "cell_type": "code",
   "execution_count": null,
   "metadata": {},
   "outputs": [],
   "source": [
    "def build_neural_network(X_train, y_train):\n",
    "    # Arquitectura de la red neuronal\n",
    "    input_size = X_train.shape[1]\n",
    "    output_size = y_train.shape[1]\n",
    "    hidden_size1 = 100\n",
    "    hidden_size2 = 100\n",
    "\n",
    "    # Creación de capas\n",
    "    input_layer = NeuralLayer(input_size, hidden_size1, relu, relu_derivative)\n",
    "    hidden_layer1 = NeuralLayer(hidden_size1, hidden_size2, relu, relu_derivative)\n",
    "    hidden_layer2 = NeuralLayer(hidden_size2, output_size, softmax, softmax_derivative, use_bias=False)\n",
    "\n",
    "    # Creación de la red neuronal\n",
    "    neural_network = NeuralNetwork([input_layer, hidden_layer1, hidden_layer2])\n",
    "    return neural_network"
   ]
  },
  {
   "cell_type": "code",
   "execution_count": null,
   "metadata": {},
   "outputs": [],
   "source": [
    "def train_neural_network(neural_network, X_train, y_train, X_test, y_test, optimizer, epochs=100, batch_size=20, momentum=0.9):\n",
    "    \n",
    "    loss_per_epoch = list()\n",
    "    \n",
    "    # Entrenamiento\n",
    "    for epoch in range(epochs):\n",
    "        indices = np.arange(X_train.shape[0])\n",
    "        np.random.shuffle(indices) # reorganiza de manera aleatoria el indice\n",
    "        \n",
    "\n",
    "        for i in range(0, X_train.shape[0], batch_size):\n",
    "            batch_indices = indices[i:i+batch_size]\n",
    "            X_batch = X_train[batch_indices]\n",
    "            y_batch = y_train[batch_indices]\n",
    "\n",
    "            # Forward pass\n",
    "            predicted_output = neural_network.forward(X_batch)\n",
    "\n",
    "            # Cálculo de la pérdida\n",
    "            loss = np.mean(binary_crossentropy(y_batch, predicted_output))\n",
    "\n",
    "            # Backpropagation\n",
    "            error = binary_crossentropy_derivative(y_batch, predicted_output)\n",
    "            neural_network.backward(error, optimizer, momentum)\n",
    "\n",
    "        # Evaluación en el conjunto de prueba\n",
    "        test_output = neural_network.forward(X_test)\n",
    "        test_loss = np.mean(binary_crossentropy(y_test, test_output))\n",
    "        loss_per_epoch.append(test_loss)\n",
    "\n",
    "        print(f\"Epoch {epoch + 1} -  Test Loss: {test_loss:.4f}\")\n",
    "    \n",
    "    display_loss_per_epoch(loss_per_epoch)\n"
   ]
  },
  {
   "cell_type": "code",
   "execution_count": null,
   "outputs": [],
   "source": [
    "# Carga y preprocesamiento de datos\n",
    "X_train, y_train, X_test, y_test = Datasets.load_and_preprocess_data_mnist(\"../data\") # añadir direccion de la carpeta con datos MNIST\n",
    "\n",
    "#X_train, y_train, X_test, y_test = Datasets.load_and_preprocess_data_iris()\n",
    "\n",
    "# Construcción de la red neuronal\n",
    "neural_network = build_neural_network(X_train, y_train)\n",
    "\n",
    "# Entrenamiento de la red neuronal\n",
    "optimizer = SGD(learning_rate=0.01)\n",
    "train_neural_network(neural_network, X_train, y_train, X_test, y_test, optimizer, epochs=50, batch_size=150, momentum=0.9)\n",
    "\n",
    "y_pred = neural_network.forward(X_test)\n",
    "\n",
    "# Presición\n",
    "print(f\"Accuracy on Test Set: {accuracy(y_test, y_pred):.2f}%\")\n",
    "\n",
    "# Matriz de confusion\n",
    "confusionMatrix(y_test, y_pred)"
   ],
   "metadata": {
    "collapsed": false
   }
  }
 ],
 "metadata": {
  "kernelspec": {
   "display_name": "Python 3",
   "language": "python",
   "name": "python3"
  },
  "language_info": {
   "codemirror_mode": {
    "name": "ipython",
    "version": 3
   },
   "file_extension": ".py",
   "mimetype": "text/x-python",
   "name": "python",
   "nbconvert_exporter": "python",
   "pygments_lexer": "ipython3",
   "version": "3.10.11"
  }
 },
 "nbformat": 4,
 "nbformat_minor": 2
}
